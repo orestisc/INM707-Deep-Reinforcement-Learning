{
 "cells": [
  {
   "cell_type": "markdown",
   "metadata": {},
   "source": [
    "<h4 align=\"right\">Orestis Charalambous</h4> \n",
    "<h4 align=\"right\">Elif Naz Bozkurt</h4> \n",
    "<h1><center><font size=\"50\">Task 3</font></center></h1>"
   ]
  },
  {
   "cell_type": "markdown",
   "metadata": {},
   "source": [
    "## Contents\n",
    "* [1. CartPole-v0 environment](#1)\n",
    "    * [1.1. Proximal Policy Optimization Reinforcement Learning algorithm](#1.1)\n",
    "    * [1.2 PPO Memory](#1.2)\n",
    "    * [1.3 Neural Network ](#1.3)\n",
    "        * [1.3.1 Actor Network ](#1.3.1)\n",
    "        * [1.3.2 Critic Network ](#1.3.2)\n",
    "    * [1.4 PPO Agent ](#1.4) \n",
    "    * [1.5 Training ](#1.5)\n",
    "    * [1.6. Evaluation and Results ](#1.6)\n",
    "    \n",
    "\n",
    "\n",
    "## 1. CartPole-v0 an OpenAI Gym environment <a class=\"anchor\" id=\"1\"></a>\n",
    "\n",
    "![image.png](https://gym.openai.com/videos/2019-10-21--mqt8Qj1mwo/CartPole-v1/poster.jpg)\n",
    "\n",
    "\n",
    "A pole is attached by an un-actuated joint to a cart, which moves along a frictionless track. The pendulum starts upright, and the goal is to prevent it from falling over by increasing and reducing the cart's velocity.\n",
    "\n",
    "The state space has 4 dimensions and contains the cart position, velocity, pole angle and pole velocity.\n",
    "\n",
    "### Actions\n",
    "\n",
    "Two discrete actions are available, corresponding to:\n",
    "\n",
    "- 0 :     Push cart to the left\n",
    "- 1 :     Push cart to the right\n",
    "\n",
    "### Rewards\n",
    "\n",
    "A reward of +1 is given for every step taken, and a reward of 0 is provided at the termination step. \n",
    "\n",
    "[For more information about the CartPole-v0 environment](https://github.com/openai/gym/wiki/CartPole-v0)\n",
    "\n",
    "\n",
    "### 1.1. Proximal Policy Optimization Reinforcement Learning algorithm <a class=\"anchor\" id=\"1.1\"></a>\n",
    "\n",
    "In this task we will train an agent for the CartPole-v0 (OpenAI Gym) environment via PPO algorithm.\n",
    "\n",
    "Our network is going to output probabilities using a soft max activation with tanh and ReLu for a categorical distirbution in PyTorch. "
   ]
  },
  {
   "cell_type": "markdown",
   "metadata": {},
   "source": [
    "### Imporing Libraries"
   ]
  },
  {
   "cell_type": "code",
   "execution_count": 1,
   "metadata": {},
   "outputs": [],
   "source": [
    "import numpy as np\n",
    "import gym\n",
    "import torch\n",
    "from torch import nn\n",
    "import time\n",
    "import matplotlib as mpl\n",
    "import matplotlib.pyplot as plt\n",
    "from torch.distributions import Categorical\n",
    "import seaborn as sns\n",
    "\n",
    "%matplotlib inline\n",
    "\n",
    "# Customising style for Graphs\n",
    "plt.style.use(['ggplot'])\n",
    "plt.rcParams['axes.edgecolor']='#333F4B'\n",
    "plt.rcParams['axes.linewidth']=0.8\n",
    "plt.rcParams['xtick.color']='#333F4B'\n",
    "plt.rcParams['ytick.color']='#333F4B'\n",
    "plt.rcParams['grid.color']='#dcdcdc'\n",
    "plt.rcParams['axes.facecolor']='white'\n",
    "mpl.rcParams['font.size'] = 15\n",
    "cmap = sns.diverging_palette(220, 10, as_cmap=True)"
   ]
  },
  {
   "cell_type": "markdown",
   "metadata": {},
   "source": [
    "### 1.2. PPO Memory <a class=\"anchor\" id=\"1.2\"></a>"
   ]
  },
  {
   "cell_type": "markdown",
   "metadata": {},
   "source": [
    "Setting torch device and memory class for storing action, states, old probability, next state probability, rewards and done. This is done so our agent trains by choosing the best probability at that stage."
   ]
  },
  {
   "cell_type": "code",
   "execution_count": 2,
   "metadata": {},
   "outputs": [],
   "source": [
    "device = torch.device('cpu')\n",
    "\n",
    "if(torch.cuda.is_available()): \n",
    "    device = torch.device('cuda:0') \n",
    "    torch.cuda.empty_cache()\n",
    "\n",
    "\n",
    "class PPO_Memory:\n",
    "    def __init__(self, batch_size):\n",
    "        self.states = []\n",
    "        self.logprobs = []\n",
    "        self.vals = []\n",
    "        self.actions = []\n",
    "        self.rewards = []\n",
    "        self.is_done = []\n",
    "\n",
    "        self.batch_size = batch_size\n",
    "\n",
    "    def generate_batches(self):\n",
    "        make_batch = np.arange(0, len(self.states), self.batch_size)\n",
    "        indices = np.arange(len(self.states), dtype=np.int64)\n",
    "        np.random.shuffle(indices)\n",
    "        batches = [indices[i:i + self.batch_size] for i in make_batch]\n",
    "\n",
    "        return np.array(self.states), \\\n",
    "               np.array(self.actions), \\\n",
    "               np.array(self.logprobs), \\\n",
    "               np.array(self.vals), \\\n",
    "               np.array(self.rewards), \\\n",
    "               np.array(self.is_done), \\\n",
    "               batches\n",
    "\n",
    "    def store(self, state, action, logprobs, vals, reward, is_done):\n",
    "        self.states.append(state)\n",
    "        self.actions.append(action)\n",
    "        self.logprobs.append(logprobs)\n",
    "        self.vals.append(vals)\n",
    "        self.rewards.append(reward)\n",
    "        self.is_done.append(is_done)\n",
    "\n",
    "    def clear_memory(self):\n",
    "        del self.states[:]\n",
    "        del self.logprobs[:]\n",
    "        del self.actions[:]\n",
    "        del self.rewards[:]\n",
    "        del self.is_done[:]\n",
    "        del self.vals[:]"
   ]
  },
  {
   "cell_type": "markdown",
   "metadata": {},
   "source": [
    "### 1.3. Neural Networks <a class=\"anchor\" id=\"1.3\"></a>"
   ]
  },
  {
   "cell_type": "markdown",
   "metadata": {},
   "source": [
    "#### 1.3.1 Actor Network <a class=\"anchor\" id=\"1.3.1\"></a>"
   ]
  },
  {
   "cell_type": "markdown",
   "metadata": {},
   "source": [
    "The Actor decides what to do based on current state.\n",
    "\n",
    "The Critic evaluates the states that the agent encounters, it criticise the decisions that the actor makes based on the states it ends up in.\n",
    "\n",
    "\n",
    "**Note**: Change nn.RelU() to nn.tanh() for both networksreports result.\n"
   ]
  },
  {
   "cell_type": "code",
   "execution_count": 3,
   "metadata": {},
   "outputs": [],
   "source": [
    "class Actor(nn.Module):\n",
    "    def __init__(self, n_actions, input_dims):\n",
    "        super().__init__()\n",
    "\n",
    "        self.actor = nn.Sequential(\n",
    "            nn.Linear(*input_dims, 256),\n",
    "            nn.ReLU(),\n",
    "            nn.Linear(256, 256),\n",
    "            nn.ReLU(),\n",
    "            nn.Linear(256, n_actions),\n",
    "            nn.Softmax(dim=-1)\n",
    "        )\n",
    "\n",
    "    def forward(self, state):\n",
    "        dist = self.actor(state)\n",
    "\n",
    "\n",
    "        return dist"
   ]
  },
  {
   "cell_type": "markdown",
   "metadata": {},
   "source": [
    "#### 1.3.2. Critic Network <a class=\"anchor\" id=\"1.3.2\"></a>"
   ]
  },
  {
   "cell_type": "code",
   "execution_count": 4,
   "metadata": {},
   "outputs": [],
   "source": [
    "class Critic(nn.Module):\n",
    "    def __init__(self, input_dims):\n",
    "        super().__init__()\n",
    "\n",
    "        self.critic = nn.Sequential(\n",
    "            nn.Linear(*input_dims, 256),\n",
    "            nn.ReLU(),\n",
    "            nn.Linear(256, 256),\n",
    "            nn.ReLU(),\n",
    "            nn.Linear(256, 1)\n",
    "        )\n",
    "\n",
    "    def forward(self, state):\n",
    "        value = self.critic(state)\n",
    "\n",
    "        return value"
   ]
  },
  {
   "cell_type": "markdown",
   "metadata": {},
   "source": [
    " ### 1.4. PPO Agent <a class=\"anchor\" id=\"1.4\"></a>"
   ]
  },
  {
   "cell_type": "code",
   "execution_count": 5,
   "metadata": {},
   "outputs": [],
   "source": [
    "class PPO_Agent:\n",
    "    def __init__(self, n_actions, input_dims, gamma, batch_size, alpha, lmbda,\n",
    "                 eps_clip, num_epochs):\n",
    "        self.gamma = gamma\n",
    "        self.eps_clip = eps_clip\n",
    "        self.num_epochs = num_epochs\n",
    "        self.lmbda = lmbda\n",
    "\n",
    "        self.actor = Actor(n_actions, input_dims)\n",
    "        self.actor_optimizer = torch.optim.Adam(self.actor.parameters(), lr=alpha)\n",
    "\n",
    "        self.critic = Critic(input_dims)\n",
    "        self.critic_optimizer = torch.optim.Adam(self.critic.parameters(), lr=alpha)\n",
    "\n",
    "    def choose_action(self, observation):\n",
    "        state = torch.tensor([observation], dtype=torch.float32).to(device)\n",
    "\n",
    "        dist = Categorical(self.actor(state))\n",
    "        value = self.critic(state)\n",
    "        action = dist.sample()\n",
    "\n",
    "        prob_act = dist.log_prob(action)\n",
    "        action = torch.squeeze(action)\n",
    "        value = torch.squeeze(value)\n",
    "\n",
    "        return action.item(), prob_act.item(), value.item()\n",
    "\n",
    "    def actor_loss(self, state, action, old_prob, advantage, clip_ratio):\n",
    "\n",
    "        dist = Categorical(self.actor(state))\n",
    "        ratio = (dist.log_prob(action) - old_prob).exp()\n",
    "        clip_adv = torch.clamp(ratio, 1 - clip_ratio, 1 + clip_ratio) * advantage\n",
    "        loss_pi = -torch.min(ratio * advantage, clip_adv)\n",
    "\n",
    "        return loss_pi\n",
    "\n",
    "    def critic_loss(self, state, advantage, values):\n",
    "\n",
    "        critic_value = torch.squeeze(self.critic(state))\n",
    "        critic_value = torch.squeeze(critic_value)\n",
    "        returns = advantage + values\n",
    "        critic_loss = (returns - critic_value) ** 2\n",
    "\n",
    "        return critic_loss\n",
    "\n",
    "    def update(self, memory):\n",
    "        for _ in range(self.num_epochs):\n",
    "            #Generating batches arrays\n",
    "            state_, action_, old_prob_, next_state, reward_, is_done_, batches = memory.generate_batches()\n",
    "\n",
    "            advantage = np.empty(len(reward_), dtype=np.float32)\n",
    "\n",
    "            for t in range(len(reward_) - 1):\n",
    "                discount = 1\n",
    "                a_t = 0\n",
    "                for k in range(t, len(reward_) - 1):\n",
    "                    a_t += discount * (reward_[k] + self.gamma * next_state[k + 1] * \\\n",
    "                                       (1 - int(is_done_[k])) - next_state[k])\n",
    "                    discount *= self.gamma * self.lmbda\n",
    "                advantage[t] = a_t\n",
    "            advantage = torch.tensor(advantage, dtype=torch.float32).to(device).detach()\n",
    "\n",
    "            next_state = torch.tensor(next_state, dtype=torch.float32).to(device).detach().detach()\n",
    "            for batch in batches:\n",
    "                states = torch.tensor(state_[batch], dtype=torch.float32).to(device).detach()\n",
    "                old_prob = torch.tensor(old_prob_[batch], dtype=torch.float32).to(device).detach()\n",
    "                actions = torch.tensor(action_[batch], dtype=torch.float32).to(device).detach()\n",
    "\n",
    "                actor_loss = self.actor_loss(states, actions, old_prob, advantage[batch], self.eps_clip)\n",
    "                critic_loss = self.critic_loss(states, advantage[batch], next_state[batch])\n",
    "                total_loss = actor_loss + 0.5 * critic_loss\n",
    "                \n",
    "                self.actor_optimizer.zero_grad()\n",
    "                self.critic_optimizer.zero_grad()\n",
    "                total_loss.mean().backward()\n",
    "                self.actor_optimizer.step()\n",
    "                self.critic_optimizer.step()\n"
   ]
  },
  {
   "cell_type": "markdown",
   "metadata": {},
   "source": [
    "### Initialising environment"
   ]
  },
  {
   "cell_type": "code",
   "execution_count": 6,
   "metadata": {},
   "outputs": [],
   "source": [
    "env = gym.make('CartPole-v0')"
   ]
  },
  {
   "cell_type": "markdown",
   "metadata": {},
   "source": [
    "### 1.5. Training <a class=\"anchor\" id=\"1.5\"></a>"
   ]
  },
  {
   "cell_type": "code",
   "execution_count": 7,
   "metadata": {},
   "outputs": [
    {
     "name": "stdout",
     "output_type": "stream",
     "text": [
      "------------------------------------------------Training the agent------------------------------------------------\n",
      "Episode #20  \tScore: 43.0  \tLast episode length: 43.00   \tTime step: 487   \tMean reward of last 20 episodes: 24.35\n",
      "Episode #40  \tScore: 30.0  \tLast episode length: 30.00   \tTime step: 1284   \tMean reward of last 20 episodes: 39.85\n",
      "Episode #60  \tScore: 83.0  \tLast episode length: 83.00   \tTime step: 2746   \tMean reward of last 20 episodes: 73.10\n",
      "Episode #80  \tScore: 166.0  \tLast episode length: 166.00   \tTime step: 5464   \tMean reward of last 20 episodes: 135.90\n",
      "Episode #100  \tScore: 200.0  \tLast episode length: 200.00   \tTime step: 8090   \tMean reward of last 20 episodes: 131.30\n",
      "Episode #120  \tScore: 198.0  \tLast episode length: 198.00   \tTime step: 11646   \tMean reward of last 20 episodes: 177.80\n",
      "Episode #140  \tScore: 200.0  \tLast episode length: 200.00   \tTime step: 15646   \tMean reward of last 20 episodes: 200.00\n",
      "Episode #160  \tScore: 200.0  \tLast episode length: 200.00   \tTime step: 19613   \tMean reward of last 20 episodes: 198.35\n",
      "Episode #180  \tScore: 200.0  \tLast episode length: 200.00   \tTime step: 23549   \tMean reward of last 20 episodes: 196.80\n",
      "Episode #200  \tScore: 200.0  \tLast episode length: 200.00   \tTime step: 27549   \tMean reward of last 20 episodes: 200.00\n",
      "------------------------------------------Training complete------------------------------------------\n",
      "--------------------------------Mean Reward: 138.97\t for 204 episodes--------------------------------\n"
     ]
    }
   ],
   "source": [
    "n_actions = env.action_space.n\n",
    "input_dims = env.observation_space.shape\n",
    "\n",
    "# Parameters\n",
    "update_timestep = 20\n",
    "batch_size = 5\n",
    "num_epochs = 4\n",
    "alpha = 0.0003\n",
    "gamma = 0.99\n",
    "lmbda = 0.95\n",
    "eps_clip = 0.1\n",
    "\n",
    "\n",
    "# Creating classes\n",
    "agent = PPO_Agent(n_actions, input_dims, gamma, batch_size, alpha, lmbda, eps_clip, num_epochs)\n",
    "memory = PPO_Memory(batch_size)\n",
    "\n",
    "\n",
    "n_episodes = 0\n",
    "episode_rewards = []\n",
    "SHOW_EVERY = 20\n",
    "learn_iters = 0\n",
    "avg_score = 0\n",
    "n_step = 0\n",
    "time_steps = 0\n",
    "\n",
    "\n",
    "print(\"------------------------------------------------Training the agent------------------------------------------------\")\n",
    "\n",
    "end = False\n",
    "while not end:\n",
    "    state = env.reset()    # Current State\n",
    "    done = False\n",
    "    c_reward = 0          # Cum reward\n",
    "    episode_length = 0\n",
    "    n_episodes += 1\n",
    "    \n",
    "    while not done:\n",
    "        n_step += 1\n",
    "        episode_length +=1\n",
    "        \n",
    "        action, prob, val = agent.choose_action(state)\n",
    "        observation, reward, done, _ = env.step(action)\n",
    "        \n",
    "        memory.store(state, action, prob, val, reward, done)\n",
    "        c_reward += reward\n",
    "        # Update if its time\n",
    "        if n_step % update_timestep == 0:\n",
    "            agent.update(memory)\n",
    "            memory.clear_memory()\n",
    "            n_step = 0\n",
    "        time_steps += 1\n",
    "        state = observation\n",
    "    episode_rewards.append(c_reward)\n",
    "    avg_score = np.mean(episode_rewards[-SHOW_EVERY:])\n",
    "    \n",
    "\n",
    "    #Logging\n",
    "    if n_episodes % SHOW_EVERY == 0:\n",
    "        print(\"Episode #{}  \\tScore: {:.1f}  \\tLast episode length: {:.2f}   \\tTime step: {}   \"\n",
    "              \"\\tMean reward of last 20 episodes: {:.2f}\".format(n_episodes, c_reward, episode_length, time_steps, avg_score))\n",
    "    elif np.mean(episode_rewards[-100:]) > 195:\n",
    "        end = True\n",
    "\n",
    "print(\"------------------------------------------Training complete------------------------------------------\")\n",
    "print(\"--------------------------------Mean Reward: {:.2f}\\t for {} episodes--------------------------------\".format(np.mean(episode_rewards), n_episodes))"
   ]
  },
  {
   "cell_type": "markdown",
   "metadata": {},
   "source": [
    "### 1.6. Evaluation and results <a class=\"anchor\" id=\"1.6\"></a>"
   ]
  },
  {
   "cell_type": "code",
   "execution_count": 8,
   "metadata": {},
   "outputs": [
    {
     "data": {
      "text/plain": [
       "Text(0.5, 1.0, 'Moving Average')"
      ]
     },
     "execution_count": 8,
     "metadata": {},
     "output_type": "execute_result"
    },
    {
     "data": {
      "image/png": "[encoded data removed]",
      "text/plain": [
       "<Figure size 1440x432 with 2 Axes>"
      ]
     },
     "metadata": {},
     "output_type": "display_data"
    }
   ],
   "source": [
    "plt.figure(figsize=(20, 6), linewidth=1)\n",
    "plt.subplot(1,2,1)\n",
    "plt.plot([i for i in range(n_episodes)], [i for i in episode_rewards])\n",
    "plt.ylabel(\"Reward\")\n",
    "plt.xlabel(\"Episode #\")\n",
    "plt.title(\"Reward per episode\")\n",
    "\n",
    "moving_avg = np.convolve(episode_rewards, np.ones((SHOW_EVERY,)) / SHOW_EVERY, mode=\"valid\")\n",
    "plt.subplot(1,2,2)\n",
    "plt.plot([i for i in range(len(moving_avg))], moving_avg)\n",
    "plt.ylabel(\"Reward\")\n",
    "plt.xlabel(\"Episode #\")\n",
    "plt.title(\"Moving Average\")"
   ]
  }
 ],
 "metadata": {
  "kernelspec": {
   "display_name": "Python 3",
   "language": "python",
   "name": "python3"
  },
  "language_info": {
   "codemirror_mode": {
    "name": "ipython",
    "version": 3
   },
   "file_extension": ".py",
   "mimetype": "text/x-python",
   "name": "python",
   "nbconvert_exporter": "python",
   "pygments_lexer": "ipython3",
   "version": "3.8.5"
  }
 },
 "nbformat": 4,
 "nbformat_minor": 4
}
